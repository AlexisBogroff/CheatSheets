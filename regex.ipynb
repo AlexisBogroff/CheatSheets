{
 "cells": [
  {
   "cell_type": "code",
   "execution_count": null,
   "metadata": {},
   "outputs": [],
   "source": [
    "import re"
   ]
  },
  {
   "cell_type": "code",
   "execution_count": null,
   "metadata": {},
   "outputs": [],
   "source": [
    "# Search vs Match\n",
    "\n",
    "# example file test.txt:\n",
    "\n",
    "#   pseudo: pseu\n",
    "#   password: pss\n",
    "#   db_name: dbou"
   ]
  },
  {
   "cell_type": "code",
   "execution_count": null,
   "metadata": {},
   "outputs": [],
   "source": [
    "# Search matches anywhere\n",
    "with open('test.txt', 'r') as f:\n",
    "    txt = f.read()\n",
    "    password = re.search('password: (.+)', txt)\n",
    "    print(password.group(1))"
   ]
  },
  {
   "cell_type": "code",
   "execution_count": null,
   "metadata": {},
   "outputs": [],
   "source": [
    "# Match matches only the current line\n",
    "with open('test.txt', 'r') as f:\n",
    "    txt = f.read()\n",
    "    password = re.match('password: (.+)', txt)\n",
    "    print(password.group(1))"
   ]
  }
 ],
 "metadata": {
  "language_info": {
   "codemirror_mode": {
    "name": "ipython",
    "version": 3
   },
   "file_extension": ".py",
   "mimetype": "text/x-python",
   "name": "python",
   "nbconvert_exporter": "python",
   "pygments_lexer": "ipython3",
   "version": "3.6.2-final"
  },
  "orig_nbformat": 2,
  "kernelspec": {
   "name": "python36264bitapivirtualenv8038fc0f20494f8783c2ecbe1a928292",
   "display_name": "Python 3.6.2 64-bit ('api': virtualenv)"
  }
 },
 "nbformat": 4,
 "nbformat_minor": 2
}
{
 "nbformat": 4,
 "nbformat_minor": 2,
 "metadata": {
  "language_info": {
   "name": "python",
   "codemirror_mode": {
    "name": "ipython",
    "version": 3
   },
   "version": "3.6.2-final"
  },
  "orig_nbformat": 2,
  "file_extension": ".py",
  "mimetype": "text/x-python",
  "name": "python",
  "npconvert_exporter": "python",
  "pygments_lexer": "ipython3",
  "version": 3,
  "kernelspec": {
   "name": "python36264bitpytorchvirtualenvb2c3f00e98dc48dba8e2131dc30ce6c5",
   "display_name": "Python 3.6.2 64-bit ('pytorch': virtualenv)"
  }
 },
 "cells": [
  {
   "cell_type": "markdown",
   "metadata": {},
   "source": [
    "# Basic"
   ],
   "execution_count": null,
   "outputs": []
  },
  {
   "cell_type": "markdown",
   "metadata": {},
   "source": [
    "## Lists"
   ],
   "execution_count": null,
   "outputs": []
  },
  {
   "cell_type": "code",
   "execution_count": 37,
   "metadata": {},
   "outputs": [],
   "source": [
    "# Sort\n",
    "lst = [1, 2, 5, 29, 3]\n",
    "sorted(lst)\n",
    "\n",
    "# Sort list of dicts\n",
    "sorted(lst2, key = lambda i: i['age'])\n",
    "\n",
    "# Revert order\n",
    "lst = [1, 2, 5, 29, 3]\n",
    "lst[::-1]\n",
    "\n",
    "# Transform a text list into actual list\n",
    "str_lst = \"1 4 10 30\"\n",
    "list(map(int, str_lst.split()))  #v1\n",
    "[int(i) for i in str_lst.split()]  #v2\n",
    "\n",
    "# Max and Sort: Key argument\n",
    "lst = [1, 2, 29, -29, 3, -1]\n",
    "max(lst, key = lambda x: (-abs(x),x), default=0)  # if lst = [] => 0\n",
    "lst.sort(key = lambda x: (-abs(x),x))\n"
   ]
  },
  {
   "cell_type": "markdown",
   "metadata": {},
   "source": [
    "## Dictionaries"
   ]
  },
  {
   "cell_type": "code",
   "execution_count": 40,
   "metadata": {},
   "outputs": [
    {
     "output_type": "execute_result",
     "data": {
      "text/plain": "['c', 'v', 'a', 'b']"
     },
     "metadata": {},
     "execution_count": 40
    }
   ],
   "source": [
    "# Get argument which has highest value\n",
    "dic = {'a': 3, 'b': 1, 'c': 12, 'v': 5}\n",
    "max(dic, key=dic.get)\n",
    "# Sort based on values\n",
    "sorted(dic, key=dic.get, reverse=True)"
   ]
  },
  {
   "cell_type": "markdown",
   "metadata": {},
   "source": [
    "## Loops"
   ],
   "execution_count": null,
   "outputs": []
  },
  {
   "cell_type": "code",
   "execution_count": null,
   "metadata": {},
   "outputs": [],
   "source": [
    "# Save indentation for condition within loops\n",
    "for i in range(20):\n",
    "    if i % 2 == 0:\n",
    "        continue\n",
    "    print(i)"
   ]
  }
 ]
}
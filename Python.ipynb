{
 "nbformat": 4,
 "nbformat_minor": 2,
 "metadata": {
  "language_info": {
   "name": "python",
   "codemirror_mode": {
    "name": "ipython",
    "version": 3
   },
   "version": "3.6.2-final"
  },
  "orig_nbformat": 2,
  "file_extension": ".py",
  "mimetype": "text/x-python",
  "name": "python",
  "npconvert_exporter": "python",
  "pygments_lexer": "ipython3",
  "version": 3,
  "kernelspec": {
   "name": "python36264bitpytorchvirtualenvb2c3f00e98dc48dba8e2131dc30ce6c5",
   "display_name": "Python 3.6.2 64-bit ('pytorch': virtualenv)"
  }
 },
 "cells": [
  {
   "cell_type": "markdown",
   "metadata": {},
   "source": [
    "# Manipulate Structures"
   ],
   "execution_count": null,
   "outputs": []
  },
  {
   "cell_type": "markdown",
   "metadata": {},
   "source": [
    "## Strings"
   ],
   "execution_count": null,
   "outputs": []
  },
  {
   "cell_type": "code",
   "execution_count": null,
   "metadata": {},
   "outputs": [],
   "source": [
    "# Replace\n",
    "s='bla bla bla'\n",
    "s.replace(' ', '')\n",
    "\n",
    "# Strip extremity spaces\n",
    "s=' azeoi '\n",
    "s.strip()"
   ]
  },
  {
   "cell_type": "markdown",
   "metadata": {},
   "source": [
    "## Lists"
   ],
   "execution_count": null,
   "outputs": []
  },
  {
   "cell_type": "code",
   "execution_count": null,
   "metadata": {},
   "outputs": [],
   "source": [
    "# Sort\n",
    "lst = [1, 2, 5, 29, 3]\n",
    "sorted(lst)\n",
    "\n",
    "# Sort list of dicts\n",
    "lst_dics = [{'id': 1, 'age':4}, {'id':2, 'age':2}]\n",
    "sorted(lst_dics, key = lambda i: i['age'])\n",
    "\n",
    "# Revert order\n",
    "lst[::-1]\n",
    "\n",
    "# Get unique values\n",
    "set(lst)\n",
    "\n",
    "# Transform a text list into actual list\n",
    "str_lst = \"1 4 10 30\"\n",
    "[int(i) for i in str_lst.split()]  #v1\n",
    "list(map(int, str_lst.split()))  #v2\n",
    "\n",
    "# Max and Sort: Key argument\n",
    "lst = [1, 2, 29, -29, 3, -1]\n",
    "max(lst, key = lambda x: (-abs(x),x), default=0)  # if lst = [] => 0\n",
    "lst.sort(key = lambda x: (-abs(x),x))\n"
   ]
  },
  {
   "cell_type": "markdown",
   "metadata": {},
   "source": [
    "## Dictionaries"
   ],
   "execution_count": null,
   "outputs": []
  },
  {
   "cell_type": "code",
   "execution_count": null,
   "metadata": {},
   "outputs": [],
   "source": [
    "dic = {'a': 3, 'b': 1, 'c': 12, 'v': 5}\n",
    "\n",
    "# Get argument which has highest value\n",
    "max(dic, key=dic.get)\n",
    "\n",
    "# Sort based on values\n",
    "sorted(dic, key=dic.get, reverse=True)"
   ]
  },
  {
   "cell_type": "markdown",
   "metadata": {},
   "source": [
    "## Loops"
   ],
   "execution_count": null,
   "outputs": []
  },
  {
   "cell_type": "code",
   "execution_count": null,
   "metadata": {},
   "outputs": [],
   "source": [
    "# Skip a loop iteration\n",
    "for i in range(0, 4):\n",
    "    if i == 2:\n",
    "        continue\n",
    "    print(i)"
   ]
  },
  {
   "cell_type": "markdown",
   "metadata": {},
   "source": [
    "# Manipulate Types"
   ],
   "execution_count": null,
   "outputs": []
  },
  {
   "cell_type": "markdown",
   "metadata": {},
   "source": [
    "## ASCII"
   ],
   "execution_count": null,
   "outputs": []
  },
  {
   "cell_type": "code",
   "execution_count": null,
   "metadata": {},
   "outputs": [],
   "source": [
    "# Get ASCII value: ord()\n",
    "string = \"Banana\"\n",
    "\n",
    "# List of ascii values for each letter\n",
    "list_ascii = [ord(c) for c in string]\n",
    "print(list_ascii)"
   ]
  },
  {
   "cell_type": "code",
   "execution_count": null,
   "metadata": {},
   "outputs": [],
   "source": [
    "# Decode ascii string\n",
    "s='0120123947402055076280037227076'\n",
    "l=len(s)\n",
    "print(''.join(chr(int(s[x:x+3]))for x in range(0,l,3)))"
   ]
  },
  {
   "cell_type": "markdown",
   "metadata": {},
   "source": [
    "# METHODS"
   ],
   "execution_count": null,
   "outputs": []
  },
  {
   "cell_type": "markdown",
   "metadata": {},
   "source": [
    "## On strings"
   ],
   "execution_count": null,
   "outputs": []
  },
  {
   "cell_type": "markdown",
   "metadata": {},
   "source": [
    "### .join"
   ],
   "execution_count": null,
   "outputs": []
  },
  {
   "cell_type": "code",
   "execution_count": null,
   "metadata": {},
   "outputs": [],
   "source": [
    "print(' '.join(str(x) for x in range(0,l,2)))"
   ]
  },
  {
   "cell_type": "code",
   "execution_count": null,
   "metadata": {},
   "outputs": [],
   "source": [
    "#\n",
    "s = 'bla bla bla'\n",
    "l=len(s)\n",
    "print(''.join(s[x:x+3]for x in range(0,l,4)))"
   ]
  },
  {
   "cell_type": "markdown",
   "metadata": {},
   "source": [
    "### Regex"
   ],
   "execution_count": null,
   "outputs": []
  },
  {
   "cell_type": "code",
   "execution_count": 66,
   "metadata": {},
   "outputs": [
    {
     "output_type": "stream",
     "name": "stdout",
     "text": "bla 5 8\nbla 16 19\nbla 24 27\nNone\n"
    }
   ],
   "source": [
    "import re\n",
    "s='aoziblaaozeifhblaaozihblaazoieh'\n",
    "\n",
    "# Replace the 'bla' with a space\n",
    "re.sub('bla', ' ', s)\n",
    "\n",
    "# Get a list of occurences\n",
    "re.findall('bla', s)\n",
    "\n",
    "# Get list of occurences and their positions\n",
    "p = re.compile(\"bla\")\n",
    "for m in p.finditer(s):\n",
    "    print(m.group(), m.start(), m.end())"
   ]
  },
  {
   "cell_type": "markdown",
   "metadata": {},
   "source": [
    "## On collections"
   ],
   "execution_count": null,
   "outputs": []
  },
  {
   "cell_type": "markdown",
   "metadata": {},
   "source": [
    "### Counter"
   ],
   "execution_count": null,
   "outputs": []
  },
  {
   "cell_type": "code",
   "execution_count": null,
   "metadata": {},
   "outputs": [],
   "source": [
    "from collections import Counter\n",
    "string = \"Banana\"\n",
    "\n",
    "for (c, n) in sorted(Counter(string).items()):\n",
    "    print(c * n)"
   ]
  },
  {
   "cell_type": "code",
   "execution_count": null,
   "metadata": {},
   "outputs": [],
   "source": []
  }
 ]
}
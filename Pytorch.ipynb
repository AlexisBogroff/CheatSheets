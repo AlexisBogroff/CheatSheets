{
 "nbformat": 4,
 "nbformat_minor": 2,
 "metadata": {
  "language_info": {
   "name": "python",
   "codemirror_mode": {
    "name": "ipython",
    "version": 3
   },
   "version": "3.6.2-final"
  },
  "orig_nbformat": 2,
  "file_extension": ".py",
  "mimetype": "text/x-python",
  "name": "python",
  "npconvert_exporter": "python",
  "pygments_lexer": "ipython3",
  "version": 3,
  "kernelspec": {
   "name": "python36264bitpytorchvirtualenvb2c3f00e98dc48dba8e2131dc30ce6c5",
   "display_name": "Python 3.6.2 64-bit ('pytorch': virtualenv)"
  }
 },
 "cells": [
  {
   "cell_type": "code",
   "execution_count": null,
   "metadata": {},
   "outputs": [],
   "source": [
    "import numpy as np\n",
    "import pandas as pd\n",
    "import torch"
   ]
  },
  {
   "cell_type": "markdown",
   "metadata": {},
   "source": [
    "# Basic tensor operations"
   ],
   "execution_count": null,
   "outputs": []
  },
  {
   "cell_type": "markdown",
   "metadata": {},
   "source": [
    "## 1D Tensors"
   ],
   "execution_count": null,
   "outputs": []
  },
  {
   "cell_type": "markdown",
   "metadata": {},
   "source": [
    "### Construct LongTensor"
   ],
   "execution_count": null,
   "outputs": []
  },
  {
   "cell_type": "code",
   "execution_count": null,
   "metadata": {},
   "outputs": [],
   "source": [
    "a = torch.tensor([1, 2, 3, 4])\n",
    "print(a.type())  # type of Tensor\n",
    "print(a.dtype)  # type of data within Tensor"
   ]
  },
  {
   "cell_type": "markdown",
   "metadata": {},
   "source": [
    "### Methods to construct float Tensor"
   ],
   "execution_count": null,
   "outputs": []
  },
  {
   "cell_type": "code",
   "execution_count": null,
   "metadata": {},
   "outputs": [],
   "source": [
    "a = torch.tensor([1, 2, 3], dtype=float)  # float64\n",
    "a = torch.FloatTensor([1, 2, 3])  # float32\n",
    "a = a.type(torch.FloatTensor)  # transform tensor into float32"
   ]
  },
  {
   "cell_type": "markdown",
   "metadata": {},
   "source": [
    "### Informative methods"
   ],
   "execution_count": null,
   "outputs": []
  },
  {
   "cell_type": "code",
   "execution_count": null,
   "metadata": {},
   "outputs": [],
   "source": [
    "a.size()\n",
    "a.shape  # IDEM\n",
    "a.ndimension()  # rank"
   ]
  },
  {
   "cell_type": "markdown",
   "metadata": {},
   "source": [
    "### Transformative methods"
   ],
   "execution_count": null,
   "outputs": []
  },
  {
   "cell_type": "markdown",
   "metadata": {},
   "source": [
    "#### Transform shape"
   ],
   "execution_count": null,
   "outputs": []
  },
  {
   "cell_type": "code",
   "execution_count": null,
   "metadata": {},
   "outputs": [],
   "source": [
    "a.shape # initial shape (3)\n",
    "\n",
    "# Transform in shape (3, 1)\n",
    "a.view(3,1).shape\n",
    "a.view(-1, 1).shape  # Idem\n",
    "\n",
    "# Transform in shape (1, 3)\n",
    "a.view(1, 3).shape\n",
    "a.view(1, -1).shape"
   ]
  },
  {
   "cell_type": "markdown",
   "metadata": {},
   "source": [
    "#### Transform type"
   ],
   "execution_count": null,
   "outputs": []
  },
  {
   "cell_type": "code",
   "execution_count": null,
   "metadata": {},
   "outputs": [],
   "source": [
    "# Numpy & Torch\n",
    "# -------------\n",
    "numpy_arr = np.array([1, 2, 3])\n",
    "\n",
    "# Numpy => Torch\n",
    "tensor = torch.from_numpy(numpy_arr)\n",
    "# Torch => Numpy\n",
    "numpy_arr = tensor.numpy()\n",
    "\n",
    "# ps: these are pointers, any change is \n",
    "# repercuted on the other variables"
   ]
  },
  {
   "cell_type": "code",
   "execution_count": null,
   "metadata": {},
   "outputs": [],
   "source": [
    "# Pandas & Torch\n",
    "# --------------\n",
    "pd_series = pd.Series([1, 2, 3])\n",
    "\n",
    "# Pandas => Torch\n",
    "tensor = torch.from_numpy(pd_series.values)\n",
    "\n",
    "# Torch => Pandas\n",
    "pd_series = pd.Series(tensor)"
   ]
  },
  {
   "cell_type": "code",
   "execution_count": null,
   "metadata": {},
   "outputs": [],
   "source": [
    "# Lists & Tensor\n",
    "# --------------\n",
    "\n",
    "# List => Tensor\n",
    "tensor = torch.tensor(dumb_list)\n",
    "\n",
    "# Tensor => List\n",
    "dumb_list = tensor.tolist()"
   ]
  }
 ]
}
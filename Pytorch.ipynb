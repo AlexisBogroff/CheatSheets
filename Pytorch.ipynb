{
 "nbformat": 4,
 "nbformat_minor": 2,
 "metadata": {
  "language_info": {
   "name": "python",
   "codemirror_mode": {
    "name": "ipython",
    "version": 3
   },
   "version": "3.6.2-final"
  },
  "orig_nbformat": 2,
  "file_extension": ".py",
  "mimetype": "text/x-python",
  "name": "python",
  "npconvert_exporter": "python",
  "pygments_lexer": "ipython3",
  "version": 3,
  "kernelspec": {
   "name": "python36264bitpytorchvirtualenvb2c3f00e98dc48dba8e2131dc30ce6c5",
   "display_name": "Python 3.6.2 64-bit ('pytorch': virtualenv)"
  }
 },
 "cells": [
  {
   "cell_type": "code",
   "execution_count": null,
   "metadata": {},
   "outputs": [],
   "source": [
    "import numpy as np\n",
    "import pandas as pd\n",
    "import torch"
   ]
  },
  {
   "cell_type": "markdown",
   "metadata": {},
   "source": [
    "# Tensors basics"
   ],
   "execution_count": null,
   "outputs": []
  },
  {
   "cell_type": "markdown",
   "metadata": {},
   "source": [
    "## [OTHER TITLE] 1D Tensors"
   ],
   "execution_count": null,
   "outputs": []
  },
  {
   "cell_type": "markdown",
   "metadata": {},
   "source": [
    "### Methods to construct tensors"
   ],
   "execution_count": null,
   "outputs": []
  },
  {
   "cell_type": "markdown",
   "metadata": {},
   "source": [
    "#### Long tensors (int/long)"
   ],
   "execution_count": null,
   "outputs": []
  },
  {
   "cell_type": "code",
   "execution_count": null,
   "metadata": {},
   "outputs": [],
   "source": [
    "# Build tensor of type Long\n",
    "a = torch.tensor([1, 2, 3, 4])  # use integers only\n",
    "a = torch.tensor([1., 2., 3., 4.], dtype=torch.int64)  # LongTensor with int64\n",
    "a = torch.tensor([1., 2., 3., 4.], dtype=torch.int32)  # IntTensor with int32"
   ]
  },
  {
   "cell_type": "markdown",
   "metadata": {},
   "source": [
    "#### Float tensors (float/double)"
   ],
   "execution_count": null,
   "outputs": []
  },
  {
   "cell_type": "code",
   "execution_count": null,
   "metadata": {},
   "outputs": [],
   "source": [
    "# Build float tensors\n",
    "a = torch.tensor([1, 2, 3], dtype=float)  # DoubleTensor with float64\n",
    "a = torch.tensor([1, 2, 3], dtype=torch.float64)  # DoubleTensor with float64\n",
    "\n",
    "a = torch.tensor([1, 2, 3], dtype=torch.float32)  # FloatTensor with float32\n",
    "b = torch.tensor([1, 2, 3]).float()  # FloatTensor with float32\n",
    "a = torch.FloatTensor([1, 2, 3])  # FloatTensor with float32\n",
    "\n",
    "# transform tensor into float\n",
    "a = a.type(torch.FloatTensor)  # FloatTensor with float32"
   ]
  },
  {
   "cell_type": "markdown",
   "metadata": {},
   "source": [
    "### Get informations"
   ],
   "execution_count": null,
   "outputs": []
  },
  {
   "cell_type": "code",
   "execution_count": null,
   "metadata": {},
   "outputs": [],
   "source": [
    "# Dimensions\n",
    "a.shape\n",
    "a.size()  # idem\n",
    "a.ndimension()  # rank\n",
    "\n",
    "# Types\n",
    "a.type()  # type of Tensor\n",
    "a.dtype  # type of data within Tensor"
   ]
  },
  {
   "cell_type": "markdown",
   "metadata": {},
   "source": [
    "### Transformations"
   ],
   "execution_count": null,
   "outputs": []
  },
  {
   "cell_type": "markdown",
   "metadata": {},
   "source": [
    "#### Transform shape"
   ],
   "execution_count": null,
   "outputs": []
  },
  {
   "cell_type": "code",
   "execution_count": null,
   "metadata": {},
   "outputs": [],
   "source": [
    "# initial shape (3)\n",
    "\n",
    "# Transform in shape (3, 1)\n",
    "a.view(3,1).shape\n",
    "a.view(-1, 1).shape  # Idem\n",
    "\n",
    "# Transform in shape (1, 3)\n",
    "a.view(1, 3).shape\n",
    "a.view(1, -1).shape"
   ]
  },
  {
   "cell_type": "markdown",
   "metadata": {},
   "source": [
    "#### Transform object type"
   ],
   "execution_count": null,
   "outputs": []
  },
  {
   "cell_type": "code",
   "execution_count": null,
   "metadata": {},
   "outputs": [],
   "source": [
    "# Numpy & Torch\n",
    "# -------------\n",
    "numpy_arr = np.array([1, 2, 3])\n",
    "\n",
    "# Numpy => Torch\n",
    "tensor = torch.from_numpy(numpy_arr)\n",
    "\n",
    "# Torch => Numpy\n",
    "numpy_arr = tensor.numpy()\n",
    "\n",
    "# ps: these are pointers, any change is \n",
    "# repercuted on the other variables"
   ]
  },
  {
   "cell_type": "code",
   "execution_count": null,
   "metadata": {},
   "outputs": [],
   "source": [
    "# Pandas & Torch\n",
    "# --------------\n",
    "pd_series = pd.Series([1, 2, 3])\n",
    "\n",
    "# Pandas => Torch\n",
    "tensor = torch.from_numpy(pd_series.values)\n",
    "\n",
    "# Torch => Pandas\n",
    "pd_series = pd.Series(tensor)"
   ]
  },
  {
   "cell_type": "code",
   "execution_count": null,
   "metadata": {},
   "outputs": [],
   "source": [
    "# Lists & Tensor\n",
    "# --------------\n",
    "\n",
    "# List => Tensor\n",
    "tensor = torch.tensor(dumb_list)\n",
    "\n",
    "# Tensor => List\n",
    "dumb_list = tensor.tolist()"
   ]
  },
  {
   "cell_type": "markdown",
   "metadata": {},
   "source": [
    "### Indexing"
   ],
   "execution_count": null,
   "outputs": []
  },
  {
   "cell_type": "code",
   "execution_count": null,
   "metadata": {},
   "outputs": [],
   "source": [
    "# Multiple indexing\n",
    "print(tensor)  # (1, 2, 3)\n",
    "tensor[:2] = torch.tensor([100, 200])  # (100, 200, 3)"
   ]
  },
  {
   "cell_type": "markdown",
   "metadata": {},
   "source": [
    "### Basic math operations"
   ],
   "execution_count": null,
   "outputs": []
  },
  {
   "cell_type": "code",
   "execution_count": null,
   "metadata": {},
   "outputs": [],
   "source": [
    "# Addition, substraction, etc. are element-wise operations\n",
    "a = torch.tensor([1, 2, 3])\n",
    "b = torch.tensor([4, 5, 6])\n",
    "z = a + b\n",
    "\n",
    "a + 1  # Broadcasting\n",
    "\n",
    "# Scalar multiplication and division too\n",
    "a*2\n",
    "a/2"
   ]
  },
  {
   "cell_type": "code",
   "execution_count": null,
   "metadata": {},
   "outputs": [],
   "source": [
    "# Vector multiplication\n",
    "a * b  # element-wise\n",
    "torch.dot(a, b) # Dot product (matrix mult)"
   ]
  },
  {
   "cell_type": "code",
   "execution_count": null,
   "metadata": {},
   "outputs": [],
   "source": [
    "# Mean (must be float)\n",
    "float_tensor = torch.tensor([1, 2, 3]).float()\n",
    "float_tensor.mean()\n",
    "\n",
    "# Max, min\n",
    "tensor.max()"
   ]
  },
  {
   "cell_type": "code",
   "execution_count": null,
   "metadata": {},
   "outputs": [],
   "source": [
    "# Tensor in radians\n",
    "tensor_radians = torch.tensor([0, np.pi/2, np.pi])\n",
    "\n",
    "# Sinus\n",
    "tensor_radians.sin()\n",
    "\n",
    "# Generate seq\n",
    "torch.linspace(-2, 2, steps=5)\n",
    "print(torch.linspace(-2, 2, steps=4))"
   ]
  },
  {
   "cell_type": "markdown",
   "metadata": {},
   "source": [
    "### Masks"
   ],
   "execution_count": null,
   "outputs": []
  },
  {
   "cell_type": "code",
   "execution_count": null,
   "metadata": {},
   "outputs": [],
   "source": [
    "# Get indexes for True elements\n",
    "bool_tensor = torch.tensor([False, False, True, False, True])\n",
    "bool_tensor.nonzero()"
   ]
  },
  {
   "cell_type": "markdown",
   "metadata": {},
   "source": [
    "# Graphs and Differenciation"
   ],
   "execution_count": null,
   "outputs": []
  },
  {
   "cell_type": "markdown",
   "metadata": {},
   "source": [
    "Methodology to differenciate"
   ],
   "execution_count": null,
   "outputs": []
  },
  {
   "cell_type": "code",
   "execution_count": null,
   "metadata": {},
   "outputs": [],
   "source": [
    "# Simple derivative\n",
    "x = torch.tensor(2., requires_grad=True)\n",
    "y = x**2\n",
    "y.backward()  # compute derivative of y\n",
    "x.grad  # evaluate the value of x"
   ]
  },
  {
   "cell_type": "code",
   "execution_count": null,
   "metadata": {},
   "outputs": [],
   "source": [
    "# Partial derivatives\n",
    "x = torch.tensor(1., requires_grad=True)\n",
    "y = torch.tensor(2., requires_grad=True)\n",
    "z = x * y + x**2\n",
    "z.backward()\n",
    "x.grad  # partial derivative of z with regard to x\n",
    "y.grad  # partial derivative of z with regard to y"
   ]
  },
  {
   "cell_type": "markdown",
   "metadata": {},
   "source": [
    "Fundamental properties"
   ],
   "execution_count": null,
   "outputs": []
  },
  {
   "cell_type": "code",
   "execution_count": null,
   "metadata": {},
   "outputs": [],
   "source": [
    "# Inspect x and y equally\n",
    "x.data\n",
    "x.grad_fn\n",
    "x.grad\n",
    "x.is_leaf\n",
    "x.requires_grad"
   ]
  },
  {
   "cell_type": "markdown",
   "metadata": {},
   "source": [
    "# Frequent tools"
   ],
   "execution_count": null,
   "outputs": []
  },
  {
   "cell_type": "code",
   "execution_count": null,
   "metadata": {},
   "outputs": [],
   "source": [
    "# import torchvision.transforms as transforms\n",
    "# import torchvision.datasets as datasets\n",
    "# "
   ]
  },
  {
   "cell_type": "code",
   "execution_count": null,
   "metadata": {},
   "outputs": [],
   "source": [
    "dataset = datasets.MNIST(root = './data', train = False, download = True, transform = transforms.ToTensor())"
   ]
  },
  {
   "cell_type": "markdown",
   "metadata": {},
   "source": [
    "# Linear Regression"
   ],
   "execution_count": null,
   "outputs": []
  },
  {
   "cell_type": "code",
   "execution_count": null,
   "metadata": {},
   "outputs": [],
   "source": [
    "# Set variables and parameters\n",
    "alpha = 0.01\n",
    "y_truth = 3\n",
    "w = torch.tensor(2., requires_grad=True)\n",
    "b = torch.tensor(-1., requires_grad=True)\n",
    "x = torch.tensor([4.])"
   ]
  },
  {
   "cell_type": "markdown",
   "metadata": {},
   "source": [
    "Lowest level implementation, using only backward function"
   ],
   "execution_count": null,
   "outputs": []
  },
  {
   "cell_type": "code",
   "execution_count": null,
   "metadata": {},
   "outputs": [],
   "source": [
    "# Define the predict function\n",
    "def forward(x):\n",
    "    y = w * x + b\n",
    "    return y\n",
    "\n",
    "# Predict\n",
    "y_hat = forward(x)"
   ]
  },
  {
   "cell_type": "markdown",
   "metadata": {},
   "source": [
    "Using Torch.Linear"
   ],
   "execution_count": null,
   "outputs": []
  },
  {
   "cell_type": "code",
   "execution_count": null,
   "metadata": {},
   "outputs": [],
   "source": [
    "from torch.nn import Linear\n",
    "\n",
    "# Initialize the linear model\n",
    "model = Linear(in_features=1, out_features=1) # Slope (w) and bias (b) are randomly initialized\n",
    "\n",
    "# Predict\n",
    "y_hat = model(x)"
   ]
  },
  {
   "cell_type": "markdown",
   "metadata": {},
   "source": [
    "Parameters info"
   ],
   "execution_count": null,
   "outputs": []
  },
  {
   "cell_type": "code",
   "execution_count": null,
   "metadata": {},
   "outputs": [],
   "source": [
    "# Get parameters names and values\n",
    "print('\\n', model.state_dict())\n",
    "\n",
    "# Get parameters' name only\n",
    "print(*model.state_dict())\n",
    "print(model.state_dict().keys())\n",
    "\n",
    "# Get parameters' values only (+ requires_grad info)\n",
    "print(list(model.parameters()))\n",
    "\n",
    "# Get parameters' value distinctly\n",
    "model.state_dict()['linear.weight'].data[0]\n",
    "model.state_dict()['linear.bias'].data[0]"
   ]
  },
  {
   "cell_type": "markdown",
   "metadata": {},
   "source": [
    "Compute derivative and update gradients"
   ],
   "execution_count": null,
   "outputs": []
  },
  {
   "cell_type": "code",
   "execution_count": null,
   "metadata": {},
   "outputs": [],
   "source": [
    "# Compute derivative\n",
    "y_hat.backward()\n",
    "\n",
    "# Compute error and update gradients\n",
    "error = y_hat - y_truth\n",
    "w_new = w -alpha * error * w.grad\n",
    "b_new = b -alpha * error * b.grad\n",
    "\n",
    "# Print error improvement\n",
    "print(\"previous error\", abs(y_hat - y_truth))\n",
    "print(\"new error\", abs((w_new * x + b_new) - y_truth))"
   ]
  },
  {
   "cell_type": "markdown",
   "metadata": {},
   "source": [
    "# Custom Modules"
   ],
   "execution_count": null,
   "outputs": []
  },
  {
   "cell_type": "code",
   "execution_count": null,
   "metadata": {},
   "outputs": [],
   "source": [
    "import torch.nn as nn\n",
    "\n",
    "class LR(nn.Module):\n",
    "    def __init__(self, in_size, out_size):\n",
    "        super(LR, self).__init__()\n",
    "        self.linear = nn.Linear(in_size, out_size)\n",
    "\n",
    "    def forward(self, x):\n",
    "        out = self.linear(x)\n",
    "        return out"
   ]
  },
  {
   "cell_type": "code",
   "execution_count": null,
   "metadata": {},
   "outputs": [],
   "source": [
    "model = LR(1, 1)\n",
    "y_hat = model(x)"
   ]
  }
 ]
}